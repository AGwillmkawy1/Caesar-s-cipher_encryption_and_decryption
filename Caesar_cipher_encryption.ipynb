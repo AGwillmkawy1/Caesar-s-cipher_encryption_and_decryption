{
 "cells": [
  {
   "cell_type": "code",
   "execution_count": 1,
   "id": "6221b706",
   "metadata": {},
   "outputs": [
    {
     "name": "stdout",
     "output_type": "stream",
     "text": [
      "WKH TXLFN EURZQ IRA MXPSV RYHU WKH ODCB GRJ\n",
      "THE QUICK BROWN FOX JUMPS OVER THE LAZY DOG\n"
     ]
    }
   ],
   "source": [
    "def caesar_encrypt(plaintext, shift):\n",
    "    \"\"\"Encrypts plaintext using Caesar's Cipher with the given shift.\"\"\"\n",
    "    ciphertext = \"\"\n",
    "    for char in plaintext:\n",
    "        if char.isalpha():\n",
    "            # Shift the character by the given amount\n",
    "            char_code = ord(char) - ord('A')\n",
    "            shifted_code = (char_code + shift) % 26\n",
    "            ciphertext += chr(shifted_code + ord('A'))\n",
    "        else:\n",
    "            # Non-alphabetic characters remain the same\n",
    "            ciphertext += char\n",
    "    return ciphertext\n",
    "\n",
    "\n",
    "def caesar_decrypt(ciphertext, shift):\n",
    "    \"\"\"Decrypts ciphertext encrypted with Caesar's Cipher using the given shift.\"\"\"\n",
    "    plaintext = \"\"\n",
    "    for char in ciphertext:\n",
    "        if char.isalpha():\n",
    "            # Shift the character back by the given amount\n",
    "            char_code = ord(char) - ord('A')\n",
    "            shifted_code = (char_code - shift) % 26\n",
    "            plaintext += chr(shifted_code + ord('A'))\n",
    "        else:\n",
    "            # Non-alphabetic characters remain the same\n",
    "            plaintext += char\n",
    "    return plaintext\n",
    "\n",
    "\n",
    "plaintext = \"THE QUICK BROWN FOX JUMPS OVER THE LAZY DOG\"\n",
    "shift = 3\n",
    "\n",
    "ciphertext = caesar_encrypt(plaintext, shift)\n",
    "print(ciphertext)  # QEB NRFZH YOLTK CLU GRJMP LSBO QEB IXWV ALD\n",
    "\n",
    "decrypted_plaintext = caesar_decrypt(ciphertext, shift)\n",
    "print(decrypted_plaintext)  # THE QUICK BROWN FOX JUMPS OVER THE LAZY DOG\n"
   ]
  },
  {
   "cell_type": "code",
   "execution_count": null,
   "id": "6677dc7f",
   "metadata": {},
   "outputs": [],
   "source": []
  }
 ],
 "metadata": {
  "kernelspec": {
   "display_name": "Python 3 (ipykernel)",
   "language": "python",
   "name": "python3"
  },
  "language_info": {
   "codemirror_mode": {
    "name": "ipython",
    "version": 3
   },
   "file_extension": ".py",
   "mimetype": "text/x-python",
   "name": "python",
   "nbconvert_exporter": "python",
   "pygments_lexer": "ipython3",
   "version": "3.9.13"
  }
 },
 "nbformat": 4,
 "nbformat_minor": 5
}
